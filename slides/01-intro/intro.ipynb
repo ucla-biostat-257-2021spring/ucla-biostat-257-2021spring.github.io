{
 "cells": [
  {
   "cell_type": "markdown",
   "metadata": {
    "slideshow": {
     "slide_type": "slide"
    }
   },
   "source": [
    "# BIOSTAT 257: Statistical Computing\n",
    "\n",
    "* Tue/Thu 1pm-2:50pm @ Zoom <https://ucla.zoom.us/j/507925583>  \n",
    "* Instructor: Dr. Hua Zhou, <huazhou@ucla.edu>"
   ]
  },
  {
   "cell_type": "markdown",
   "metadata": {
    "slideshow": {
     "slide_type": "slide"
    }
   },
   "source": [
    "## What is statistics?\n",
    "\n",
    "* Statistics, the science of *data analysis*, is the applied mathematics in the 21st century. \n",
    "\n",
    "* People (scientists, goverment, health professionals, companies) collect data in order to answer certain questions. Statisticians's job is to help them extract knowledge and insights from data. \n",
    "\n",
    "* Must-read for (bio)statistics students:  \n",
    "  - [_50 years of data sicence_](https://ucla-biostat-257-2020spring.github.io/readings/Donoho15FiftyYearsDataScience.pdf), by David Donoho.\n",
    "\n",
    "* If existing software tools readily solve the problem, all the better. \n",
    "\n",
    "* Often statisticians need to implement their own methods, test new algorithms, or tailor classical methods to new types of data (big, streaming). \n",
    "\n",
    "* This entails at least two essential skills: **programming** and fundamental knowledge of **algorithms**. "
   ]
  },
  {
   "cell_type": "markdown",
   "metadata": {
    "slideshow": {
     "slide_type": "slide"
    }
   },
   "source": [
    "## What is this course about?\n",
    "\n",
    "* **Not** a course on statistical packages. It does not answer questions such as _How to fit a linear mixed model in R,  Julia, SAS, SPSS, or Stata?_\n",
    "\n",
    "* **Not** a pure programming course, although programming is important and we do homework in Julia.  \n",
    "BIOSTAT 203A (Data Management) in fall quarter focuses on programming in R and SAS.\n",
    "\n",
    "* **Not** a course on data science. The new course [BIOSTAT 203B (Introduction to Data Science)](https://ucla-biostat203b-2020winter.github.io/schedule.html) in winter quarter focuses on some software tools for data scientists.\n",
    "\n",
    "* This course focuses on **algorithms**, mostly those in **numerical linear algebra** and **numerical optimization**. "
   ]
  },
  {
   "cell_type": "markdown",
   "metadata": {},
   "source": [
    "## Learning objectives\n",
    "\n",
    "1. Be highly appreciative of this quote by [James Gentle](https://books.google.com/books?id=Pbz3D7Tg5eoC&pg=PR9&lpg=PR9&dq=The+form+of+a+mathematical+expression+and+the+way+the+expression+should+be+evaluated+in+actual+practice+may+be+quite+different.&source=bl&ots=MYABVAwDtC&sig=MGuPY_171sZFZLMCuewlOjV-Cl4&hl=en&sa=X&ved=0ahUKEwjkv_u34v7SAhUJrlQKHfT6DjAQ6AEIITAB#v=onepage&q=The%20form%20of%20a%20mathematical%20expression%20and%20the%20way%20the%20expression%20should%20be%20evaluated%20in%20actual%20practice%20may%20be%20quite%20different.&f=false)\n",
    "> The form of a mathematical expression and the way the expression should be evaluated in actual practice may be quite different.\n",
    "\n",
    "    Examples: $\\boldsymbol{X}^T \\boldsymbol{W} \\boldsymbol{X}$, $\\operatorname{tr} (\\boldsymbol{A} \\boldsymbol{B})$, $\\operatorname{diag}(\\boldsymbol{A} \\boldsymbol{B})$, multivariate normal density,...  \n",
    "\n",
    "2. Become **memory-conscious**. You care about looping order. You do benchmarking on hot functions fanatically to make sure it's not allocating.    \n",
    "<img src=\"./memory.jpg\" align=\"center\" width=\"150\"/>   \n",
    "Image source: <https://www.independent.co.uk/news/health/memory-loss-alzheimers-disease-age-of-8-university-college-london-a9178631.html>\n",
    "\n",
    "3. **No inversion mentality**. Whenever you see a matrix inverse in mathematical expression, your brain reacts with _matrix decomposition_, _iterative solvers_, etc. For R users, that means you almost never use the `solve()` function.   \n",
    "\n",
    "    Examples: $(\\boldsymbol{X}^T \\boldsymbol{X})^{-1} \\boldsymbol{X}^T \\mathbf{y}$, $\\mathbf{y}^T \\boldsymbol{\\Sigma}^{-1} \\mathbf{y}$, Newton-Raphson algorithm, ...   \n",
    "<img src=\"./yoga_inversion.jpg\" align=\"center\" width=\"250\"/>   \n",
    "Image source: <https://www.yogajournal.com/practice/inversion-inquiry>\n",
    "\n",
    "4. Know some basic strategies to solve **big data** problems. \n",
    "\n",
    "    Examples: how Google solve the PageRank problem with $10^{9}$ webpages, linear regression with $10^7$ observations, etc.  \n",
    "\n",
    "5. No afraid of **optimizations** and treat it as a technology. Be able to recognize some major optimization classes and choose the best solver(s) correspondingly.\n",
    "\n",
    "6. Be immune to the language fight. "
   ]
  },
  {
   "cell_type": "markdown",
   "metadata": {
    "slideshow": {
     "slide_type": "slide"
    }
   },
   "source": [
    "## Course logistics\n",
    "\n",
    "* Course webpage: <https://ucla-biostat-257-2020spring.github.io> or <http://ucla-biostat-257.com>.\n",
    "\n",
    "* [Syllabus](https://ucla-biostat-257-2020spring.github.io/syllabus/syllabus.html).\n",
    "\n",
    "* Check the [Schedule](https://ucla-biostat-257-2020spring.github.io/schedule/schedule.html) and [Announcements](https://ucla-biostat-257-2020spring.github.io/announcement.html) pages frequently. \n",
    "\n",
    "* Jupyter notebooks will be posted before each lecture."
   ]
  }
 ],
 "metadata": {
  "celltoolbar": "Slideshow",
  "kernelspec": {
   "display_name": "Julia 1.4.0",
   "language": "julia",
   "name": "julia-1.4"
  },
  "language_info": {
   "file_extension": ".jl",
   "mimetype": "application/julia",
   "name": "julia",
   "version": "1.4.0"
  },
  "livereveal": {
   "scroll": true,
   "start_slideshow_at": "selected"
  },
  "toc": {
   "colors": {
    "hover_highlight": "#DAA520",
    "running_highlight": "#FF0000",
    "selected_highlight": "#FFD700"
   },
   "moveMenuLeft": true,
   "nav_menu": {
    "height": "213px",
    "width": "252px"
   },
   "navigate_menu": true,
   "number_sections": true,
   "sideBar": true,
   "skip_h1_title": true,
   "threshold": 4,
   "toc_cell": false,
   "toc_section_display": "block",
   "toc_window_display": true,
   "widenNotebook": false
  },
  "toc-autonumbering": true
 },
 "nbformat": 4,
 "nbformat_minor": 4
}
