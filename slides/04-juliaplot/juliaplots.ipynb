{
 "cells": [
  {
   "cell_type": "markdown",
   "metadata": {},
   "source": [
    "# Plotting in Julia\n",
    "\n",
    "**Warning**: The time to first plot can be frustratingly long in Julia because of the JIT compilation.\n",
    "\n",
    "The three most popular options (as far as I know) in Julia are\n",
    "\n",
    "- [Gadfly.jl](https://github.com/GiovineItalia/Gadfly.jl)\n",
    "    - Julia equivalent of `ggplot2` in R\n",
    "    \n",
    "- [PyPlot.jl](https://github.com/JuliaPy/PyPlot.jl)\n",
    "    - Wrapper for Python's matplotlib\n",
    "    \n",
    "    \n",
    "- [Plots.jl](https://github.com/JuliaPlots/Plots.jl)\n",
    "    - Defines an unified interface for plotting\n",
    "    - maps arguments to different plotting \"backends\"\n",
    "        - PyPlot, GR, PlotlyJS, and many more  \n",
    "    - For a complete list of backends: <http://docs.juliaplots.org/latest/backends/>  \n",
    "    - Mapping of attributes to backends: <http://docs.juliaplots.org/latest/supported/>  \n",
    "    - First runs can be slowish. I found the GR backend fastest and most stable."
   ]
  },
  {
   "cell_type": "markdown",
   "metadata": {},
   "source": [
    "## Gadfly.jl\n",
    "\n",
    "To demonstrate Gadfly, we will go through an example and compare it to ggplot2. "
   ]
  },
  {
   "cell_type": "code",
   "execution_count": null,
   "metadata": {},
   "outputs": [],
   "source": [
    "using RCall\n",
    "\n",
    "R\"\"\"\n",
    "library(ggplot2)\n",
    "library(dplyr)\n",
    "\n",
    "df <- ToothGrowth %>%\n",
    "  group_by(supp, dose) %>%\n",
    "  summarise(se = sd(len) / n(), len = mean(len), n = n())\n",
    "\n",
    "ggplot(df, aes(x = dose, y = len, group = supp, color = supp)) + \n",
    "  geom_line() +\n",
    "  geom_point() +\n",
    "  geom_errorbar(aes(ymin = len - se, ymax = len + se), width = 0.1, alpha = 0.5,\n",
    "  position = position_dodge(0.005)) +  \n",
    "  scale_color_manual(values = c(VC = \"skyblue\", OJ = \"orange\")) + \n",
    "  labs(x = \"Dose\", y = \"Tooth Length\") \n",
    "\"\"\""
   ]
  },
  {
   "cell_type": "code",
   "execution_count": null,
   "metadata": {},
   "outputs": [],
   "source": [
    "@rget df # retrieve dataframe from R to Julia workspace\n",
    "using Gadfly\n",
    "df[:ymin] = df[:len] - df[:se]\n",
    "df[:ymax] = df[:len] + df[:se]\n",
    "Gadfly.plot(df, \n",
    "    x = :dose, \n",
    "    y = :len, \n",
    "    color = :supp, \n",
    "    Geom.point,\n",
    "    Guide.xlabel(\"Dose\"), \n",
    "    Guide.ylabel(\"Tooth Length\"), \n",
    "    Guide.xticks(ticks = [0.5, 1.0, 1.5, 2.0]),\n",
    "    Geom.line, \n",
    "    Geom.errorbar, \n",
    "    ymin = :ymin, \n",
    "    ymax = :ymax, \n",
    "    Scale.color_discrete_manual(\"orange\", \"skyblue\"))"
   ]
  },
  {
   "cell_type": "markdown",
   "metadata": {},
   "source": [
    "Both offer more customized options"
   ]
  },
  {
   "cell_type": "code",
   "execution_count": null,
   "metadata": {},
   "outputs": [],
   "source": [
    "R\"\"\"\n",
    "ggplot(df, aes(x = dose, y = len, group = supp, color = supp)) + \n",
    "  geom_line() +\n",
    "  geom_point() +\n",
    "  geom_errorbar(aes(ymin = len - se, ymax = len + se), width = 0.1, alpha = 0.5, \n",
    "    position = position_dodge(0.005)) + \n",
    "    theme(legend.position = c(0.8,0.1), \n",
    "    legend.key = element_blank(), \n",
    "    axis.text.x = element_text(angle = 0, size = 11), \n",
    "    axis.ticks = element_blank(), \n",
    "    panel.grid.major = element_blank(), \n",
    "    legend.text=element_text(size = 11),\n",
    "    panel.border = element_blank(), \n",
    "    panel.grid.minor = element_blank(), \n",
    "    panel.background = element_blank(), \n",
    "    axis.line = element_line(color = 'black',size = 0.3), \n",
    "  plot.title = element_text(hjust = 0.5)) + \n",
    "  scale_color_manual(values = c(VC = \"skyblue\", OJ = \"orange\")) + \n",
    "  labs(x = \"Dose\", y = \"Tooth Length\")\n",
    "\"\"\""
   ]
  },
  {
   "cell_type": "code",
   "execution_count": null,
   "metadata": {},
   "outputs": [],
   "source": [
    "Gadfly.plot(df, x = :dose, y = :len, color = :supp, Geom.point,\n",
    "    Guide.xlabel(\"Dose\"), Guide.ylabel(\"Tooth Length\"), \n",
    "    Guide.xticks(ticks = [0.5, 1.0, 1.5, 2.0]),\n",
    "    Theme(panel_fill = nothing, highlight_width = 0mm, point_size = 0.5mm,\n",
    "    key_position = :inside, \n",
    "    grid_line_width = 0mm, panel_stroke = colorant\"black\"),\n",
    "    Geom.line, Geom.errorbar, ymin = :ymin, ymax = :ymax, \n",
    "    Scale.color_discrete_manual(\"orange\", \"skyblue\"))"
   ]
  },
  {
   "cell_type": "markdown",
   "metadata": {},
   "source": [
    "## Plots.jl\n",
    "\n",
    "We demonstrate Plots.jl below:"
   ]
  },
  {
   "cell_type": "code",
   "execution_count": null,
   "metadata": {},
   "outputs": [],
   "source": [
    "# Pkg.add(\"Plots\")\n",
    "using Plots, Random\n",
    "\n",
    "Random.seed!(123) # set seed\n",
    "x = cumsum(randn(50, 2), dims=1);"
   ]
  },
  {
   "cell_type": "code",
   "execution_count": null,
   "metadata": {},
   "outputs": [],
   "source": [
    "# Pkg.add(\"PyPlot\")\n",
    "pyplot()  # set the backend to PyPlot\n",
    "Plots.plot(x, title=\"Random walk\", xlab=\"time\")"
   ]
  },
  {
   "cell_type": "code",
   "execution_count": null,
   "metadata": {},
   "outputs": [],
   "source": [
    "gr()   # change backend to GR\n",
    "Plots.plot(x, title=\"Random walk\", xlab=\"time\")"
   ]
  },
  {
   "cell_type": "markdown",
   "metadata": {},
   "source": [
    "```\n",
    "gr()\n",
    "@gif for i in 1:20\n",
    "    Plots.plot(x -> sin(x) / (.2i), 0, i, xlim=(0, 20), ylim=(-.75, .75))\n",
    "    scatter!(x -> cos(x) * .01 * i, 0, i, m=1)\n",
    "end;\n",
    "```\n",
    "produces following animation.\n",
    "\n",
    "<img src=\"./tmp.gif\" />"
   ]
  },
  {
   "cell_type": "code",
   "execution_count": null,
   "metadata": {},
   "outputs": [],
   "source": [
    "# Pkg.add(\"PlotlyJS\")\n",
    "plotlyjs()  # change backend to PlotlyJS\n",
    "Plots.plot(x, title=\"Random walk\", xlab=\"time\")"
   ]
  }
 ],
 "metadata": {
  "kernelspec": {
   "display_name": "Julia 1.6.0",
   "language": "julia",
   "name": "julia-1.6"
  },
  "language_info": {
   "file_extension": ".jl",
   "mimetype": "application/julia",
   "name": "julia",
   "version": "1.6.0"
  },
  "toc": {
   "colors": {
    "hover_highlight": "#DAA520",
    "running_highlight": "#FF0000",
    "selected_highlight": "#FFD700"
   },
   "moveMenuLeft": true,
   "nav_menu": {
    "height": "66.52174377441406px",
    "width": "251.7391357421875px"
   },
   "navigate_menu": true,
   "number_sections": true,
   "sideBar": true,
   "skip_h1_title": true,
   "threshold": 4,
   "toc_cell": true,
   "toc_section_display": "block",
   "toc_window_display": true,
   "widenNotebook": false
  },
  "toc-autonumbering": true
 },
 "nbformat": 4,
 "nbformat_minor": 4
}
