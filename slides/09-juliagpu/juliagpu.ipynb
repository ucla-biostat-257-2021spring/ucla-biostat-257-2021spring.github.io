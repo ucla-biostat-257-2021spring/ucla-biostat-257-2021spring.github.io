{
 "cells": [
  {
   "cell_type": "markdown",
   "metadata": {},
   "source": [
    "# GPU Computing in Julia\n",
    "\n",
    "This session introduces GPU computing in Julia."
   ]
  },
  {
   "cell_type": "markdown",
   "metadata": {},
   "source": [
    "## GPGPU"
   ]
  },
  {
   "cell_type": "markdown",
   "metadata": {},
   "source": [
    "GPUs are ubiquitous in modern computers. Following are GPUs today's typical computer systems.\n",
    "\n",
    "| NVIDIA GPUs         | Tesla K80                            | GTX 1080                                 | GT 650M                              |\n",
    "|---------------------|----------------------------------------|-----------------------------------------|--------------------------------------|\n",
    "|                     | ![Tesla M2090](nvidia_k80.jpg) | ![GTX 580](nvidia_gtx1080.jpg)    | ![GT 650M](nvidia_gt650m.jpg) |\n",
    "| Computers           | servers, cluster                       | desktop                                 | laptop                               |\n",
    "|                     | ![Server](gpu_server.jpg)       | ![Desktop](alienware-area51.png) | ![Laptop](macpro_inside.png)  |\n",
    "| Main usage          | scientific computing                   | daily work, gaming                      | daily work                           |\n",
    "| Memory              | 24 GB                                    | 8 GB                                   | 1GB                                  |\n",
    "| Memory bandwidth    | 480 GB/sec                              | 320 GB/sec                               | 80GB/sec                             |\n",
    "| Number of cores     | 4992                                    | 2560                                     | 384                                  |\n",
    "| Processor clock     | 562 MHz                                 | 1.6 GHz                                  | 0.9GHz                               |\n",
    "| Peak DP performance | 2.91 TFLOPS                              | 257 GFLOPS                                        |                                      |\n",
    "| Peak SP performance | 8.73 TFLOPS                            | 8228 GFLOPS                              | 691Gflops                            |"
   ]
  },
  {
   "cell_type": "markdown",
   "metadata": {},
   "source": [
    "GPU architecture vs CPU architecture.  \n",
    "* GPUs contain 100s of processing cores on a single card; several cards can fit in a desktop PC  \n",
    "* Each core carries out the same operations in parallel on different input data -- single program, multiple data (SPMD) paradigm  \n",
    "* Extremely high arithmetic intensity *if* one can transfer the data onto and results off of the processors quickly\n",
    "\n",
    "| ![i7 die](cpu_i7_die.png) | ![Fermi die](Fermi_Die.png) |\n",
    "|----------------------------------|------------------------------------|\n",
    "| ![Einstein](einstein.png) | ![Rain man](rainman.png)    |"
   ]
  },
  {
   "cell_type": "markdown",
   "metadata": {},
   "source": [
    "## GPGPU in Julia\n",
    "\n",
    "GPU support by Julia is under active development. Check [JuliaGPU](https://github.com/JuliaGPU) for currently available packages. \n",
    "\n",
    "There are at least three paradigms to program GPU in Julia.\n",
    "\n",
    "- **CUDA** is an ecosystem exclusively for Nvidia GPUs. There are extensive CUDA libraries for scientific computing: CuBLAS, CuRAND, CuSparse, CuSolve, CuDNN, ...\n",
    "\n",
    "  The [CuArrays.jl](https://github.com/JuliaGPU/CuArrays.jl) package allows defining arrays on Nvidia GPUs and overloads many common operations. CuArrays.jl supports Julia v1.0+.\n",
    "\n",
    "- **OpenCL** is a standard supported multiple manufacturers (Nvidia, AMD, Intel, Apple, ...), but lacks some libraries essential for statistical computing.\n",
    "\n",
    "  The [CLArrays.jl](https://github.com/JuliaGPU/CLArrays.jl) package allows defining arrays on OpenCL devices and overloads many common operations.\n",
    "\n",
    "- [**ArrayFire**](https://arrayfire.com) is a high performance library that works on both CUDA or OpenCL framework.\n",
    "\n",
    "  The [ArrayFire.jl](https://github.com/JuliaGPU/ArrayFire.jl) package wraps the library for julia.\n",
    "\n",
    "- **Warning:** Most recent Apple operating system iOS 10.15 (Catalina) does **not** support CUDA yet.\n",
    "\n",
    "I'll illustrate using CuArrays on my Linux box running CentOS 7. It has a NVIDIA GeForce RTX 2080 Ti OC with 11GB GDDR6 (14 Gbps) and 4352 cores."
   ]
  },
  {
   "cell_type": "code",
   "execution_count": null,
   "metadata": {
    "scrolled": true
   },
   "outputs": [],
   "source": [
    "versioninfo()"
   ]
  },
  {
   "cell_type": "markdown",
   "metadata": {},
   "source": [
    "## Query GPU devices in the system"
   ]
  },
  {
   "cell_type": "code",
   "execution_count": null,
   "metadata": {},
   "outputs": [],
   "source": [
    "using CuArrays, CUDAdrv\n",
    "\n",
    "# check available devices on this machine and show their capability\n",
    "for device in CuArrays.devices()\n",
    "    @show capability(device)\n",
    "end"
   ]
  },
  {
   "cell_type": "markdown",
   "metadata": {},
   "source": [
    "## Transfer data between main memory and GPU"
   ]
  },
  {
   "cell_type": "code",
   "execution_count": null,
   "metadata": {},
   "outputs": [],
   "source": [
    "# generate data on CPU\n",
    "x = rand(Float32, 3, 3)\n",
    "# transfer data form CPU to GPU\n",
    "xd = CuArray(x)"
   ]
  },
  {
   "cell_type": "code",
   "execution_count": null,
   "metadata": {},
   "outputs": [],
   "source": [
    "# generate array on GPU directly\n",
    "yd = ones(CuArray{Float32}, 3, 3)"
   ]
  },
  {
   "cell_type": "code",
   "execution_count": null,
   "metadata": {},
   "outputs": [],
   "source": [
    "# collect data from GPU to CPU\n",
    "x = collect(xd)"
   ]
  },
  {
   "cell_type": "markdown",
   "metadata": {},
   "source": [
    "## Linear algebra"
   ]
  },
  {
   "cell_type": "code",
   "execution_count": null,
   "metadata": {},
   "outputs": [],
   "source": [
    "using BenchmarkTools, LinearAlgebra\n",
    "\n",
    "n = 1024\n",
    "# on CPU\n",
    "x = rand(Float32, n, n)\n",
    "y = rand(Float32, n, n)\n",
    "z = zeros(Float32, n, n)\n",
    "# on GPU\n",
    "xd = CuArray(x)\n",
    "yd = CuArray(y)\n",
    "zd = CuArray(z)\n",
    "\n",
    "# SP matrix multiplication on GPU\n",
    "@benchmark mul!($zd, $xd, $yd)"
   ]
  },
  {
   "cell_type": "code",
   "execution_count": null,
   "metadata": {
    "scrolled": true
   },
   "outputs": [],
   "source": [
    "# SP matrix multiplication on CPU\n",
    "@benchmark mul!($z, $x, $y)"
   ]
  },
  {
   "cell_type": "markdown",
   "metadata": {},
   "source": [
    "We see ~40-50x fold speedup in this matrix multiplication example."
   ]
  },
  {
   "cell_type": "code",
   "execution_count": null,
   "metadata": {},
   "outputs": [],
   "source": [
    "# cholesky on Gram matrix\n",
    "xtxd = xd'xd + I\n",
    "@benchmark cholesky($(Symmetric(xtxd)))"
   ]
  },
  {
   "cell_type": "code",
   "execution_count": null,
   "metadata": {},
   "outputs": [],
   "source": [
    "xtx = collect(xtxd)\n",
    "@benchmark cholesky($(Symmetric(xtx)))"
   ]
  },
  {
   "cell_type": "markdown",
   "metadata": {},
   "source": [
    "GPU speedup of Cholesky on this example is moderate."
   ]
  },
  {
   "cell_type": "markdown",
   "metadata": {},
   "source": [
    "## Elementiwise operations on GPU"
   ]
  },
  {
   "cell_type": "code",
   "execution_count": null,
   "metadata": {},
   "outputs": [],
   "source": [
    "# elementwise function on GPU arrays\n",
    "fill!(yd, 1)\n",
    "@benchmark $zd .= log.($yd .+ sin.($xd))"
   ]
  },
  {
   "cell_type": "code",
   "execution_count": null,
   "metadata": {},
   "outputs": [],
   "source": [
    "# elementwise function on CPU arrays\n",
    "x, y, z = collect(xd), collect(yd), collect(zd)\n",
    "@benchmark $z .= log.($y .+ sin.($x))"
   ]
  },
  {
   "cell_type": "markdown",
   "metadata": {},
   "source": [
    "GPU brings great speedup (>500x) to the massive evaluation of elementary math functions."
   ]
  }
 ],
 "metadata": {
  "@webio": {
   "lastCommId": null,
   "lastKernelId": null
  },
  "kernelspec": {
   "display_name": "Julia 1.5.0",
   "language": "julia",
   "name": "julia-1.5"
  },
  "language_info": {
   "file_extension": ".jl",
   "mimetype": "application/julia",
   "name": "julia",
   "version": "1.5.0"
  },
  "toc": {
   "colors": {
    "hover_highlight": "#DAA520",
    "running_highlight": "#FF0000",
    "selected_highlight": "#FFD700"
   },
   "moveMenuLeft": true,
   "nav_menu": {
    "height": "30px",
    "width": "252px"
   },
   "navigate_menu": true,
   "number_sections": true,
   "sideBar": true,
   "skip_h1_title": true,
   "threshold": 4,
   "toc_cell": false,
   "toc_section_display": "block",
   "toc_window_display": true,
   "widenNotebook": false
  },
  "toc-autonumbering": true
 },
 "nbformat": 4,
 "nbformat_minor": 4
}
